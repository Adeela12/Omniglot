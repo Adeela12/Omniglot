{
  "nbformat": 4,
  "nbformat_minor": 0,
  "metadata": {
    "colab": {
      "name": "one-shot-learning.ipynb",
      "provenance": [],
      "collapsed_sections": []
    },
    "kernelspec": {
      "name": "python3",
      "display_name": "Python 3"
    },
    "accelerator": "GPU"
  },
  "cells": [
    {
      "cell_type": "code",
      "metadata": {
        "id": "ZCXmgic3oONq",
        "colab_type": "code",
        "colab": {
          "base_uri": "https://localhost:8080/",
          "height": 122
        },
        "outputId": "f879fe66-bd76-40c5-8b18-ba0fec16a505"
      },
      "source": [
        "from google.colab import drive\n",
        "drive.mount('/content/drive')"
      ],
      "execution_count": null,
      "outputs": [
        {
          "output_type": "stream",
          "text": [
            "Go to this URL in a browser: https://accounts.google.com/o/oauth2/auth?client_id=947318989803-6bn6qk8qdgf4n4g3pfee6491hc0brc4i.apps.googleusercontent.com&redirect_uri=urn%3aietf%3awg%3aoauth%3a2.0%3aoob&scope=email%20https%3a%2f%2fwww.googleapis.com%2fauth%2fdocs.test%20https%3a%2f%2fwww.googleapis.com%2fauth%2fdrive%20https%3a%2f%2fwww.googleapis.com%2fauth%2fdrive.photos.readonly%20https%3a%2f%2fwww.googleapis.com%2fauth%2fpeopleapi.readonly&response_type=code\n",
            "\n",
            "Enter your authorization code:\n",
            "··········\n",
            "Mounted at /content/drive\n"
          ],
          "name": "stdout"
        }
      ]
    },
    {
      "cell_type": "code",
      "metadata": {
        "id": "W9A5I3g2oTDz",
        "colab_type": "code",
        "colab": {
          "base_uri": "https://localhost:8080/",
          "height": 544
        },
        "outputId": "3580029b-1c20-4bfc-caa4-bb487c1ac5f1"
      },
      "source": [
        "!nvidia-smi\n",
        "%cd /content/drive/My Drive/omniglot\n",
        "!ls"
      ],
      "execution_count": null,
      "outputs": [
        {
          "output_type": "stream",
          "text": [
            "Fri Aug 14 08:48:37 2020       \n",
            "+-----------------------------------------------------------------------------+\n",
            "| NVIDIA-SMI 450.57       Driver Version: 418.67       CUDA Version: 10.1     |\n",
            "|-------------------------------+----------------------+----------------------+\n",
            "| GPU  Name        Persistence-M| Bus-Id        Disp.A | Volatile Uncorr. ECC |\n",
            "| Fan  Temp  Perf  Pwr:Usage/Cap|         Memory-Usage | GPU-Util  Compute M. |\n",
            "|                               |                      |               MIG M. |\n",
            "|===============================+======================+======================|\n",
            "|   0  Tesla K80           Off  | 00000000:00:04.0 Off |                    0 |\n",
            "| N/A   35C    P8    26W / 149W |      0MiB / 11441MiB |      0%      Default |\n",
            "|                               |                      |                 ERR! |\n",
            "+-------------------------------+----------------------+----------------------+\n",
            "                                                                               \n",
            "+-----------------------------------------------------------------------------+\n",
            "| Processes:                                                                  |\n",
            "|  GPU   GI   CI        PID   Type   Process name                  GPU Memory |\n",
            "|        ID   ID                                                   Usage      |\n",
            "|=============================================================================|\n",
            "|  No running processes found                                                 |\n",
            "+-----------------------------------------------------------------------------+\n",
            "/content/drive/My Drive/omniglot\n",
            " images_background\n",
            " images_background.zip\n",
            "'images_background.zip (Unzipped Files)'\n",
            "'images_background.zip (Unzipped Files) (1)'\n",
            " images_evaluation\n",
            " images_evaluation.zip\n",
            "'images_evaluation.zip (Unzipped Files)'\n",
            "'images_evaluation.zip (Unzipped Files) (1)'\n",
            " one-shot-learning.ipynb\n",
            " siameseNet-batchnorm50.pt\n"
          ],
          "name": "stdout"
        }
      ]
    },
    {
      "cell_type": "code",
      "metadata": {
        "id": "2P_n-LWrZ0KA",
        "colab_type": "code",
        "colab": {}
      },
      "source": [
        "\n",
        "from os import walk\n",
        "import torch\n",
        "import torchvision\n",
        "import torchvision.transforms as transforms\n",
        "import matplotlib.pyplot as plt\n",
        "import os\n",
        "from PIL import Image\n",
        "import cv2\n",
        "from torchsummary import summary\n",
        "from torch.utils.data import Dataset, DataLoader, random_split\n",
        "import pandas as pd\n",
        "import numpy as np\n",
        "import random"
      ],
      "execution_count": null,
      "outputs": []
    },
    {
      "cell_type": "code",
      "metadata": {
        "id": "P3oSjmgid55a",
        "colab_type": "code",
        "colab": {}
      },
      "source": [
        "#root_dir = './images_background/'\n",
        "root_dir = './images_evaluation/'\n",
        "categories = [[folder, os.listdir(root_dir + folder)] for folder in os.listdir(root_dir)  if not folder.startswith('.') ]"
      ],
      "execution_count": null,
      "outputs": []
    },
    {
      "cell_type": "code",
      "metadata": {
        "id": "_XeQEOJHeCSO",
        "colab_type": "code",
        "colab": {}
      },
      "source": [
        "class OmniglotDataset(Dataset):\n",
        "    def __init__(self, categories, root_dir, setSize, transform=None):\n",
        "        self.categories = categories\n",
        "        self.root_dir = root_dir\n",
        "        self.transform = transform\n",
        "        self.setSize = setSize\n",
        "    def __len__(self):\n",
        "        return self.setSize\n",
        "    def __getitem__(self, idx):\n",
        "        img1 = None\n",
        "        img2 = None\n",
        "        label = None\n",
        "        if idx % 2 == 0: # select the same character for both images\n",
        "            category = random.choice(categories)\n",
        "            character = random.choice(category[1])\n",
        "            imgDir = root_dir + category[0] + '/' + character\n",
        "            img1Name = random.choice(os.listdir(imgDir))\n",
        "            img2Name = random.choice(os.listdir(imgDir))\n",
        "            img1 = Image.open(imgDir + '/' + img1Name)\n",
        "            img2 = Image.open(imgDir + '/' + img2Name)\n",
        "            # print(imgDir+'/'+img1Name)\n",
        "            # print(imgDir+'/'+img2Name)\n",
        "            label = 1.0\n",
        "        else: # select a different character for both images\n",
        "            category1, category2 = random.choice(categories), random.choice(categories)\n",
        "            category1, category2 = random.choice(categories), random.choice(categories)\n",
        "            character1, character2 = random.choice(category1[1]), random.choice(category2[1])\n",
        "            imgDir1, imgDir2 = root_dir + category1[0] + '/' + character1, root_dir + category2[0] + '/' + character2\n",
        "            img1Name = random.choice(os.listdir(imgDir1))\n",
        "            img2Name = random.choice(os.listdir(imgDir2))\n",
        "            while img1Name == img2Name:\n",
        "                img2Name = random.choice(os.listdir(imgDir2))\n",
        "            label = 0.0\n",
        "            img1 = Image.open(imgDir1 + '/' + img1Name)\n",
        "            img2 = Image.open(imgDir2 + '/' + img2Name)\n",
        "#         plt.imshow(img1)\n",
        "        if self.transform:\n",
        "            img1 = self.transform(img1)\n",
        "            img2 = self.transform(img2)\n",
        "        return img1, img2, torch.from_numpy(np.array([label], dtype=np.float32))\n"
      ],
      "execution_count": null,
      "outputs": []
    },
    {
      "cell_type": "code",
      "metadata": {
        "id": "IE8-c5g2fJEP",
        "colab_type": "code",
        "colab": {}
      },
      "source": [
        "class NWayOneShotEvalSet(Dataset):\n",
        "    def __init__(self, categories, root_dir, setSize, numWay, transform=None):\n",
        "        self.categories = categories\n",
        "        self.root_dir = root_dir\n",
        "        self.setSize = setSize\n",
        "        self.numWay = numWay\n",
        "        self.transform = transform\n",
        "    def __len__(self):\n",
        "        return self.setSize\n",
        "    def __getitem__(self, idx):\n",
        "        # find one main image\n",
        "        category = random.choice(categories)\n",
        "        character = random.choice(category[1])\n",
        "        imgDir = root_dir + category[0] + '/' + character\n",
        "        imgName = random.choice(os.listdir(imgDir))\n",
        "        mainImg = Image.open(imgDir + '/' + imgName)\n",
        "        # print(imgDir + '/' + imgName)\n",
        "        if self.transform:\n",
        "            mainImg = self.transform(mainImg)\n",
        "        \n",
        "        # find n numbers of distinct images, 1 in the same set as the main\n",
        "        testSet = []\n",
        "        label = np.random.randint(self.numWay)\n",
        "        for i in range(self.numWay):\n",
        "            testImgDir = imgDir\n",
        "            testImgName = ''\n",
        "            if i == label:\n",
        "                testImgName = random.choice(os.listdir(imgDir))\n",
        "            else:\n",
        "                testCategory = random.choice(categories)\n",
        "                testCharacter = random.choice(testCategory[1])\n",
        "                testImgDir = root_dir + testCategory[0] + '/' + testCharacter\n",
        "                while testImgDir == imgDir:\n",
        "                    testImgDir = root_dir + testCategory[0] + '/' + testCharacter\n",
        "                testImgName = random.choice(os.listdir(testImgDir))\n",
        "            testImg = Image.open(testImgDir + '/' + testImgName)\n",
        "            if self.transform:\n",
        "                testImg = self.transform(testImg)\n",
        "            testSet.append(testImg)\n",
        "        # plt.imshow()\n",
        "        return mainImg, testSet, torch.from_numpy(np.array([label], dtype = int))"
      ],
      "execution_count": null,
      "outputs": []
    },
    {
      "cell_type": "code",
      "metadata": {
        "id": "22r2d2YkfSUr",
        "colab_type": "code",
        "colab": {}
      },
      "source": [
        "dataSize = 10000 # self-defined dataset size\n",
        "TRAIN_PCT = 0.8 # percentage of entire dataset for training\n",
        "train_size = int(dataSize * TRAIN_PCT)\n",
        "val_size = dataSize - train_size\n",
        "\n",
        "transformations = transforms.Compose(\n",
        "    [transforms.ToTensor()]) \n",
        "\n",
        "omniglotDataset = OmniglotDataset(categories, root_dir, dataSize, transformations)\n",
        "train_set, val_set = random_split(omniglotDataset, [train_size, val_size])\n",
        "train_loader = torch.utils.data.DataLoader(train_set, batch_size=128, num_workers=16)\n",
        "val_loader = torch.utils.data.DataLoader(val_set, batch_size=1, num_workers=16, shuffle=True)"
      ],
      "execution_count": null,
      "outputs": []
    },
    {
      "cell_type": "code",
      "metadata": {
        "id": "13vNYQZ6fW78",
        "colab_type": "code",
        "colab": {}
      },
      "source": [
        "testSize = 5000 \n",
        "numWay = 20\n",
        "test_set = NWayOneShotEvalSet(categories, root_dir, testSize, numWay, transformations)\n",
        "test_loader = torch.utils.data.DataLoader(test_set, batch_size = 1, num_workers = 2, shuffle=True)"
      ],
      "execution_count": null,
      "outputs": []
    },
    {
      "cell_type": "code",
      "metadata": {
        "id": "qLeAG_IsfZ-h",
        "colab_type": "code",
        "colab": {
          "base_uri": "https://localhost:8080/",
          "height": 356
        },
        "outputId": "935ad81c-be52-40e2-cbb2-e2c508f1d826"
      },
      "source": [
        "count0 = 0\n",
        "count1 = 0\n",
        "for img1, img2, label in train_loader:\n",
        "    print()\n",
        "    if label[0] == 1.0:\n",
        "        print(img1[0])\n",
        "        plt.subplot(1,2,1)\n",
        "        plt.imshow(img1[0][0])\n",
        "        plt.subplot(1,2,2)\n",
        "        plt.imshow(img2[0][0])\n",
        "        # print(label)\n",
        "        break"
      ],
      "execution_count": null,
      "outputs": [
        {
          "output_type": "stream",
          "text": [
            "\n",
            "\n",
            "tensor([[[1., 1., 1.,  ..., 1., 1., 1.],\n",
            "         [1., 1., 1.,  ..., 1., 1., 1.],\n",
            "         [1., 1., 1.,  ..., 1., 1., 1.],\n",
            "         ...,\n",
            "         [1., 1., 1.,  ..., 1., 1., 1.],\n",
            "         [1., 1., 1.,  ..., 1., 1., 1.],\n",
            "         [1., 1., 1.,  ..., 1., 1., 1.]]])\n"
          ],
          "name": "stdout"
        },
        {
          "output_type": "display_data",
          "data": {
            "image/png": "[encoded data removed]",
            "text/plain": [
              "<Figure size 432x288 with 2 Axes>"
            ]
          },
          "metadata": {
            "tags": [],
            "needs_background": "light"
          }
        }
      ]
    },
    {
      "cell_type": "code",
      "metadata": {
        "id": "_mQlWqq_fdXo",
        "colab_type": "code",
        "colab": {
          "base_uri": "https://localhost:8080/",
          "height": 82
        },
        "outputId": "5f4bd6e8-a92d-40f7-d8f2-9d96984f4dc7"
      },
      "source": [
        "count = 0\n",
        "for mainImg, imgset, label in test_loader:\n",
        "    # print(len(imgset))\n",
        "    # print(label)\n",
        "    # print(imgset.shape)\n",
        "    if label != 1:\n",
        "        for count, img in enumerate(imgset):\n",
        "          plt.subplot(1, len(imgset)+1, count+1)\n",
        "          plt.imshow(img[0][0])\n",
        "          # print(img.shape)\n",
        "        print(mainImg.shape)\n",
        "        plt.subplot(1, len(imgset)+1, len(imgset)+1)\n",
        "        plt.imshow(mainImg[0][0])\n",
        "        count += 1\n",
        "        break"
      ],
      "execution_count": null,
      "outputs": [
        {
          "output_type": "stream",
          "text": [
            "torch.Size([1, 1, 105, 105])\n"
          ],
          "name": "stdout"
        },
        {
          "output_type": "display_data",
          "data": {
            "image/png": "[encoded data removed]",
            "text/plain": [
              "<Figure size 432x288 with 21 Axes>"
            ]
          },
          "metadata": {
            "tags": [],
            "needs_background": "light"
          }
        }
      ]
    },
    {
      "cell_type": "code",
      "metadata": {
        "id": "c5DYHvlsEQWy",
        "colab_type": "code",
        "colab": {}
      },
      "source": [
        "import torch.nn as nn\n",
        "import torch.nn.functional as F"
      ],
      "execution_count": null,
      "outputs": []
    },
    {
      "cell_type": "code",
      "metadata": {
        "id": "vI7ekWLUEVHN",
        "colab_type": "code",
        "colab": {}
      },
      "source": [
        "class Net(nn.Module):\n",
        "    def __init__(self):\n",
        "        super(Net, self).__init__()\n",
        "        \n",
        "        # Koch et al.\n",
        "        # Conv2d(input_channels, output_channels, kernel_size)\n",
        "        self.conv1 = nn.Conv2d(1, 64, 10) \n",
        "        self.conv2 = nn.Conv2d(64, 128, 7)  \n",
        "        self.conv3 = nn.Conv2d(128, 128, 4)\n",
        "        self.conv4 = nn.Conv2d(128, 256, 4)\n",
        "        self.bn1 = nn.BatchNorm2d(64)\n",
        "        self.bn2 = nn.BatchNorm2d(128)\n",
        "        self.bn3 = nn.BatchNorm2d(128)\n",
        "        self.bn4 = nn.BatchNorm2d(256)\n",
        "        self.dropout1 = nn.Dropout(0.1)\n",
        "        self.dropout2 = nn.Dropout(0.5)\n",
        "        self.fc1 = nn.Linear(256 * 6 * 6, 4096)\n",
        "        self.fcOut = nn.Linear(4096, 1)\n",
        "        self.sigmoid = nn.Sigmoid()\n",
        "\n",
        "        # VGG16\n",
        "        # # dataiter = iter(train_loader)\n",
        "        # # img1, img2, label = dataiter.next()\n",
        "        # # print(img1.shape)\n",
        "        # self.conv11 = nn.Conv2d(1, 64, 3) \n",
        "        # self.conv12 = nn.Conv2d(64, 64, 3)  \n",
        "        # self.conv21 = nn.Conv2d(64, 128, 3)\n",
        "        # self.conv22 = nn.Conv2d(128, 128, 3)\n",
        "        # self.conv31 = nn.Conv2d(128, 256, 3) \n",
        "        # self.conv32 = nn.Conv2d(256, 256, 3)  \n",
        "        # self.conv33 = nn.Conv2d(256, 256, 3)\n",
        "        # self.pool = nn.MaxPool2d(2, 2)\n",
        "        # self.fc1 = nn.Linear(256 * 8 * 8, 4096)\n",
        "        # self.fc2 = nn.Linear(4096, 4096)\n",
        "        # self.fcOut = nn.Linear(4096, 1)\n",
        "        # self.sigmoid = nn.Sigmoid()\n",
        "        # # x = self.conv11(img1)\n",
        "        # # x = self.conv12(x)\n",
        "        # # x = self.pool(x)\n",
        "        # # x = self.conv21(x)\n",
        "        # # x = self.conv22(x)\n",
        "        # # x = self.pool(x)\n",
        "        # # x = self.conv31(x)\n",
        "        # # x = self.conv32(x)\n",
        "        # # x = self.conv33(x)\n",
        "        # # x = self.pool(x)\n",
        "        # # print(x.shape)\n",
        "    \n",
        "    def convs(self, x):\n",
        "\n",
        "        # Koch et al.\n",
        "        # out_dim = in_dim - kernel_size + 1  \n",
        "        #1, 105, 105\n",
        "        x = F.relu(self.bn1(self.conv1(x)))\n",
        "        # 64, 96, 96\n",
        "        x = F.max_pool2d(x, (2,2))\n",
        "        # 64, 48, 48\n",
        "        x = F.relu(self.bn2(self.conv2(x)))\n",
        "        # 128, 42, 42\n",
        "        x = F.max_pool2d(x, (2,2))\n",
        "        # 128, 21, 21\n",
        "        x = F.relu(self.bn3(self.conv3(x)))\n",
        "        # 128, 18, 18\n",
        "        x = F.max_pool2d(x, (2,2))\n",
        "        # 128, 9, 9\n",
        "        x = F.relu(self.bn4(self.conv4(x)))\n",
        "        # 256, 6, 6\n",
        "        return x\n",
        "\n",
        "        # VGG16\n",
        "        # x = F.relu(self.conv11(x))\n",
        "        # x = F.relu(self.conv12(x))\n",
        "        # x = F.max_pool2d(x, (2,2))\n",
        "        # x = F.relu(self.conv21(x))\n",
        "        # x = F.relu(self.conv22(x))\n",
        "        # x = F.max_pool2d(x, (2,2))\n",
        "        # x = F.relu(self.conv31(x))\n",
        "        # x = F.relu(self.conv32(x))\n",
        "        # x = F.relu(self.conv33(x))\n",
        "        # x = F.max_pool2d(x, (2,2))\n",
        "        # return x\n",
        "\n",
        "    def forward(self, x1, x2):\n",
        "        x1 = self.convs(x1)\n",
        "\n",
        "        # Koch et al.\n",
        "        x1 = x1.view(-1, 256 * 6 * 6)\n",
        "        x1 = self.sigmoid(self.fc1(x1))\n",
        "\n",
        "        # VGG16\n",
        "        # x1 = x1.view(-1, 256 * 8 * 8)\n",
        "        # x1 = self.fc1(x1)\n",
        "        # x1 = self.sigmoid(self.fc2(x1))\n",
        "        \n",
        "        x2 = self.convs(x2)\n",
        "\n",
        "        # Koch et al.\n",
        "        x2 = x2.view(-1, 256 * 6 * 6)\n",
        "        x2 = self.sigmoid(self.fc1(x2))\n",
        "\n",
        "        # VGG16\n",
        "        # x2 = x2.view(-1, 256 * 8 * 8)\n",
        "        # x2 = self.fc1(x2)\n",
        "        # x2 = self.sigmoid(self.fc2(x2))\n",
        "\n",
        "        x = torch.abs(x1 - x2)\n",
        "        x = self.fcOut(x)\n",
        "        return x"
      ],
      "execution_count": null,
      "outputs": []
    },
    {
      "cell_type": "code",
      "metadata": {
        "id": "xQu_OQQnEb_t",
        "colab_type": "code",
        "colab": {
          "base_uri": "https://localhost:8080/",
          "height": 340
        },
        "outputId": "23f892f3-81a7-43e5-de43-4e8de910f262"
      },
      "source": [
        "device = torch.device('cuda:0' if torch.cuda.is_available() else 'cpu')\n",
        "siameseBaseLine = Net()\n",
        "siameseBaseLine = siameseBaseLine.to(device)\n",
        "\n",
        "def count_parameters(model):\n",
        "    temp = sum(p.numel() for p in model.parameters() if p.requires_grad)\n",
        "    print(f'The model architecture:\\n\\n', model)\n",
        "    print(f'\\nThe model has {temp:,} trainable parameters')\n",
        "    \n",
        "count_parameters(siameseBaseLine)"
      ],
      "execution_count": null,
      "outputs": [
        {
          "output_type": "stream",
          "text": [
            "The model architecture:\n",
            "\n",
            " Net(\n",
            "  (conv1): Conv2d(1, 64, kernel_size=(10, 10), stride=(1, 1))\n",
            "  (conv2): Conv2d(64, 128, kernel_size=(7, 7), stride=(1, 1))\n",
            "  (conv3): Conv2d(128, 128, kernel_size=(4, 4), stride=(1, 1))\n",
            "  (conv4): Conv2d(128, 256, kernel_size=(4, 4), stride=(1, 1))\n",
            "  (bn1): BatchNorm2d(64, eps=1e-05, momentum=0.1, affine=True, track_running_stats=True)\n",
            "  (bn2): BatchNorm2d(128, eps=1e-05, momentum=0.1, affine=True, track_running_stats=True)\n",
            "  (bn3): BatchNorm2d(128, eps=1e-05, momentum=0.1, affine=True, track_running_stats=True)\n",
            "  (bn4): BatchNorm2d(256, eps=1e-05, momentum=0.1, affine=True, track_running_stats=True)\n",
            "  (dropout1): Dropout(p=0.1, inplace=False)\n",
            "  (dropout2): Dropout(p=0.5, inplace=False)\n",
            "  (fc1): Linear(in_features=9216, out_features=4096, bias=True)\n",
            "  (fcOut): Linear(in_features=4096, out_features=1, bias=True)\n",
            "  (sigmoid): Sigmoid()\n",
            ")\n",
            "\n",
            "The model has 38,952,897 trainable parameters\n"
          ],
          "name": "stdout"
        }
      ]
    },
    {
      "cell_type": "code",
      "metadata": {
        "id": "4se7ZXHzEfcr",
        "colab_type": "code",
        "colab": {}
      },
      "source": [
        "def save_checkpoint(save_path, model, optimizer, val_loss):\n",
        "    if save_path==None:\n",
        "        return\n",
        "    save_path = save_path \n",
        "    state_dict = {'model_state_dict': model.state_dict(),\n",
        "                  'optimizer_state_dict': optimizer.state_dict(),\n",
        "                  'val_loss': val_loss}\n",
        "\n",
        "    torch.save(state_dict, save_path)\n",
        "\n",
        "    print(f'Model saved to ==> {save_path}')\n",
        "\n",
        "def load_checkpoint(model, optimizer):\n",
        "    save_path = f'siameseNet-batchnorm50.pt'\n",
        "    state_dict = torch.load(save_path)\n",
        "    model.load_state_dict(state_dict['model_state_dict'])\n",
        "    optimizer.load_state_dict(state_dict['optimizer_state_dict'])\n",
        "    val_loss = state_dict['val_loss']\n",
        "    print(f'Model loaded from <== {save_path}')\n",
        "    \n",
        "    return val_loss"
      ],
      "execution_count": null,
      "outputs": []
    },
    {
      "cell_type": "code",
      "metadata": {
        "id": "iHyEg0WbEh-s",
        "colab_type": "code",
        "colab": {}
      },
      "source": [
        "def train(model, train_loader, val_loader, num_epochs, criterion, save_name):\n",
        "    best_val_loss = float(\"Inf\") \n",
        "    train_losses = []\n",
        "    val_losses = []\n",
        "    cur_step = 0\n",
        "    for epoch in range(num_epochs):\n",
        "        running_loss = 0.0\n",
        "        model.train()\n",
        "        print(\"Starting epoch \" + str(epoch+1))\n",
        "        for img1, img2, labels in train_loader:\n",
        "            \n",
        "            # Forward\n",
        "            img1 = img1.to(device)\n",
        "            img2 = img2.to(device)\n",
        "            labels = labels.to(device)\n",
        "            outputs = model(img1, img2)\n",
        "            loss = criterion(outputs, labels)\n",
        "            \n",
        "            # Backward and optimize\n",
        "            optimizer.zero_grad()\n",
        "            loss.backward()\n",
        "            optimizer.step()\n",
        "            running_loss += loss.item()\n",
        "\n",
        "        avg_train_loss = running_loss / len(train_loader)\n",
        "        train_losses.append(avg_train_loss)\n",
        "        \n",
        "        val_running_loss = 0.0\n",
        "        with torch.no_grad():\n",
        "            model.eval()\n",
        "            for img1, img2, labels in val_loader:\n",
        "                img1 = img1.to(device)\n",
        "                img2 = img2.to(device)\n",
        "                labels = labels.to(device)\n",
        "                outputs = model(img1, img2)\n",
        "                loss = criterion(outputs, labels)\n",
        "                val_running_loss += loss.item()\n",
        "        avg_val_loss = val_running_loss / len(val_loader)\n",
        "        val_losses.append(avg_val_loss)\n",
        "        \n",
        "        print('Epoch [{}/{}],Train Loss: {:.4f}, Valid Loss: {:.8f}'\n",
        "            .format(epoch+1, num_epochs, avg_train_loss, avg_val_loss))\n",
        "        if avg_val_loss < best_val_loss:\n",
        "            best_val_loss = avg_val_loss\n",
        "            save_checkpoint(save_name, model, optimizer, best_val_loss)\n",
        "    \n",
        "    print(\"Finished Training\")  \n",
        "    return train_losses, val_losses  \n",
        "\n",
        "# evaluation metrics\n",
        "def eval(model, test_loader):\n",
        "    with torch.no_grad():\n",
        "        model.eval()\n",
        "        correct = 0\n",
        "        print('Starting Iteration')\n",
        "        count = 0\n",
        "        for mainImg, imgSets, label in test_loader:\n",
        "            mainImg = mainImg.to(device)\n",
        "            predVal = 0\n",
        "            pred = -1\n",
        "            for i, testImg in enumerate(imgSets):\n",
        "                testImg = testImg.to(device)\n",
        "                output = model(mainImg, testImg)\n",
        "                if output > predVal:\n",
        "                    pred = i\n",
        "                    predVal = output\n",
        "            label = label.to(device)\n",
        "            if pred == label:\n",
        "                correct += 1\n",
        "            count += 1\n",
        "            if count % 20 == 0:\n",
        "                print(\"Current Count is: {}\".format(count))\n",
        "                print('Accuracy on n way: {}'.format(correct/count))\n"
      ],
      "execution_count": null,
      "outputs": []
    },
    {
      "cell_type": "code",
      "metadata": {
        "id": "bU093EYrEnMf",
        "colab_type": "code",
        "colab": {
          "base_uri": "https://localhost:8080/",
          "height": 1000
        },
        "outputId": "3c1ddbfc-3b57-4252-e834-e2eb02d7b7a5"
      },
      "source": [
        "import torch.optim as optim\n",
        "\n",
        "optimizer = optim.Adam(siameseBaseLine.parameters(), lr = 0.0006)\n",
        "num_epochs = 50\n",
        "criterion = nn.BCEWithLogitsLoss()\n",
        "save_path = 'siameseNet-batchnorm50.pt'\n",
        "train_losses, val_losses = train(siameseBaseLine, train_loader, val_loader, num_epochs, criterion, save_path)"
      ],
      "execution_count": null,
      "outputs": [
        {
          "output_type": "stream",
          "text": [
            "Starting epoch 1\n",
            "Epoch [1/50],Train Loss: 0.5328, Valid Loss: 0.45164161\n",
            "Model saved to ==> siameseNet-batchnorm50.pt\n",
            "Starting epoch 2\n",
            "Epoch [2/50],Train Loss: 0.4203, Valid Loss: 0.43268060\n",
            "Model saved to ==> siameseNet-batchnorm50.pt\n",
            "Starting epoch 3\n",
            "Epoch [3/50],Train Loss: 0.3682, Valid Loss: 0.34320883\n",
            "Model saved to ==> siameseNet-batchnorm50.pt\n",
            "Starting epoch 4\n",
            "Epoch [4/50],Train Loss: 0.3257, Valid Loss: 0.30948794\n",
            "Model saved to ==> siameseNet-batchnorm50.pt\n",
            "Starting epoch 5\n",
            "Epoch [5/50],Train Loss: 0.3137, Valid Loss: 0.32466590\n",
            "Starting epoch 6\n",
            "Epoch [6/50],Train Loss: 0.2908, Valid Loss: 0.28691168\n",
            "Model saved to ==> siameseNet-batchnorm50.pt\n",
            "Starting epoch 7\n",
            "Epoch [7/50],Train Loss: 0.2808, Valid Loss: 0.26316745\n",
            "Model saved to ==> siameseNet-batchnorm50.pt\n",
            "Starting epoch 8\n",
            "Epoch [8/50],Train Loss: 0.2524, Valid Loss: 0.23453234\n",
            "Model saved to ==> siameseNet-batchnorm50.pt\n",
            "Starting epoch 9\n",
            "Epoch [9/50],Train Loss: 0.2561, Valid Loss: 0.23194509\n",
            "Model saved to ==> siameseNet-batchnorm50.pt\n",
            "Starting epoch 10\n",
            "Epoch [10/50],Train Loss: 0.2452, Valid Loss: 0.24686054\n",
            "Starting epoch 11\n",
            "Epoch [11/50],Train Loss: 0.2292, Valid Loss: 0.23116273\n",
            "Model saved to ==> siameseNet-batchnorm50.pt\n",
            "Starting epoch 12\n",
            "Epoch [12/50],Train Loss: 0.2246, Valid Loss: 0.20318072\n",
            "Model saved to ==> siameseNet-batchnorm50.pt\n",
            "Starting epoch 13\n",
            "Epoch [13/50],Train Loss: 0.2169, Valid Loss: 0.20094474\n",
            "Model saved to ==> siameseNet-batchnorm50.pt\n",
            "Starting epoch 14\n",
            "Epoch [14/50],Train Loss: 0.2110, Valid Loss: 0.18770619\n",
            "Model saved to ==> siameseNet-batchnorm50.pt\n",
            "Starting epoch 15\n",
            "Epoch [15/50],Train Loss: 0.2092, Valid Loss: 0.20150618\n",
            "Starting epoch 16\n",
            "Epoch [16/50],Train Loss: 0.2007, Valid Loss: 0.20830574\n",
            "Starting epoch 17\n",
            "Epoch [17/50],Train Loss: 0.1970, Valid Loss: 0.18335998\n",
            "Model saved to ==> siameseNet-batchnorm50.pt\n",
            "Starting epoch 18\n",
            "Epoch [18/50],Train Loss: 0.1845, Valid Loss: 0.18070732\n",
            "Model saved to ==> siameseNet-batchnorm50.pt\n",
            "Starting epoch 19\n",
            "Epoch [19/50],Train Loss: 0.1792, Valid Loss: 0.18468090\n",
            "Starting epoch 20\n",
            "Epoch [20/50],Train Loss: 0.1921, Valid Loss: 0.17765282\n",
            "Model saved to ==> siameseNet-batchnorm50.pt\n",
            "Starting epoch 21\n",
            "Epoch [21/50],Train Loss: 0.1640, Valid Loss: 0.15937157\n",
            "Model saved to ==> siameseNet-batchnorm50.pt\n",
            "Starting epoch 22\n",
            "Epoch [22/50],Train Loss: 0.1732, Valid Loss: 0.16588197\n",
            "Starting epoch 23\n",
            "Epoch [23/50],Train Loss: 0.1750, Valid Loss: 0.16078322\n",
            "Starting epoch 24\n",
            "Epoch [24/50],Train Loss: 0.1717, Valid Loss: 0.15666999\n",
            "Model saved to ==> siameseNet-batchnorm50.pt\n",
            "Starting epoch 25\n",
            "Epoch [25/50],Train Loss: 0.1620, Valid Loss: 0.24376174\n",
            "Starting epoch 26\n",
            "Epoch [26/50],Train Loss: 0.1627, Valid Loss: 0.16611183\n",
            "Starting epoch 27\n",
            "Epoch [27/50],Train Loss: 0.1535, Valid Loss: 0.14394029\n",
            "Model saved to ==> siameseNet-batchnorm50.pt\n",
            "Starting epoch 28\n",
            "Epoch [28/50],Train Loss: 0.1440, Valid Loss: 0.14369868\n",
            "Model saved to ==> siameseNet-batchnorm50.pt\n",
            "Starting epoch 29\n",
            "Epoch [29/50],Train Loss: 0.1573, Valid Loss: 0.14566257\n",
            "Starting epoch 30\n",
            "Epoch [30/50],Train Loss: 0.1458, Valid Loss: 0.15256447\n",
            "Starting epoch 31\n",
            "Epoch [31/50],Train Loss: 0.1404, Valid Loss: 0.13256377\n",
            "Model saved to ==> siameseNet-batchnorm50.pt\n",
            "Starting epoch 32\n",
            "Epoch [32/50],Train Loss: 0.1375, Valid Loss: 0.13697439\n",
            "Starting epoch 33\n",
            "Epoch [33/50],Train Loss: 0.1463, Valid Loss: 0.21879604\n",
            "Starting epoch 34\n",
            "Epoch [34/50],Train Loss: 0.1451, Valid Loss: 0.13147607\n",
            "Model saved to ==> siameseNet-batchnorm50.pt\n",
            "Starting epoch 35\n",
            "Epoch [35/50],Train Loss: 0.1413, Valid Loss: 0.13207224\n",
            "Starting epoch 36\n",
            "Epoch [36/50],Train Loss: 0.1371, Valid Loss: 0.12484885\n",
            "Model saved to ==> siameseNet-batchnorm50.pt\n",
            "Starting epoch 37\n",
            "Epoch [37/50],Train Loss: 0.1300, Valid Loss: 0.12793913\n",
            "Starting epoch 38\n",
            "Epoch [38/50],Train Loss: 0.1286, Valid Loss: 0.10350993\n",
            "Model saved to ==> siameseNet-batchnorm50.pt\n",
            "Starting epoch 39\n",
            "Epoch [39/50],Train Loss: 0.1306, Valid Loss: 0.11829141\n",
            "Starting epoch 40\n",
            "Epoch [40/50],Train Loss: 0.1238, Valid Loss: 0.10078614\n",
            "Model saved to ==> siameseNet-batchnorm50.pt\n",
            "Starting epoch 41\n",
            "Epoch [41/50],Train Loss: 0.1254, Valid Loss: 0.12667910\n",
            "Starting epoch 42\n",
            "Epoch [42/50],Train Loss: 0.1233, Valid Loss: 0.11397607\n",
            "Starting epoch 43\n",
            "Epoch [43/50],Train Loss: 0.1230, Valid Loss: 0.19885040\n",
            "Starting epoch 44\n",
            "Epoch [44/50],Train Loss: 0.1204, Valid Loss: 0.10605310\n",
            "Starting epoch 45\n",
            "Epoch [45/50],Train Loss: 0.1075, Valid Loss: 0.12074893\n",
            "Starting epoch 46\n",
            "Epoch [46/50],Train Loss: 0.1128, Valid Loss: 0.10772187\n",
            "Starting epoch 47\n",
            "Epoch [47/50],Train Loss: 0.1094, Valid Loss: 0.10585813\n",
            "Starting epoch 48\n",
            "Epoch [48/50],Train Loss: 0.1129, Valid Loss: 0.09805024\n",
            "Model saved to ==> siameseNet-batchnorm50.pt\n",
            "Starting epoch 49\n",
            "Epoch [49/50],Train Loss: 0.1113, Valid Loss: 0.09640446\n",
            "Model saved to ==> siameseNet-batchnorm50.pt\n",
            "Starting epoch 50\n",
            "Epoch [50/50],Train Loss: 0.0978, Valid Loss: 0.10575009\n",
            "Finished Training\n"
          ],
          "name": "stdout"
        }
      ]
    },
    {
      "cell_type": "code",
      "metadata": {
        "id": "_O8Re1ZKErrJ",
        "colab_type": "code",
        "colab": {
          "base_uri": "https://localhost:8080/",
          "height": 68
        },
        "outputId": "9ef480ec-d0ef-4f0d-8c8e-c1896bf93506"
      },
      "source": [
        "import torch.optim as optim\n",
        "load_model = Net().to(device)\n",
        "load_optimizer = optim.Adam(load_model.parameters(), lr=0.0006)\n",
        "\n",
        "\n",
        "num_epochs = 10\n",
        "eval_every = 1000\n",
        "total_step = len(train_loader)*num_epochs\n",
        "best_val_loss = load_checkpoint(load_model, load_optimizer)\n",
        "\n",
        "print(best_val_loss)\n",
        "eval(load_model, test_loader)"
      ],
      "execution_count": null,
      "outputs": [
        {
          "output_type": "stream",
          "text": [
            "Model loaded from <== siameseNet-batchnorm50.pt\n",
            "0.09640445820250888\n",
            "Starting Iteration\n"
          ],
          "name": "stdout"
        }
      ]
    },
    {
      "cell_type": "code",
      "metadata": {
        "id": "7VEPMfYUhDro",
        "colab_type": "code",
        "colab": {}
      },
      "source": [
        "plt.xlabel('epoch')\n",
        "plt.ylabel('loss')\n",
        "plt.plot(train_losses, label='Train Loss')\n",
        "plt.plot(val_losses, label=\"Validation Loss\")\n",
        "plt.legend(bbox_to_anchor=(1.05, 1.0), loc='upper left')\n",
        "plt.show()"
      ],
      "execution_count": null,
      "outputs": []
    },
    {
      "cell_type": "code",
      "metadata": {
        "id": "0753S2k6hJyj",
        "colab_type": "code",
        "colab": {}
      },
      "source": [
        ""
      ],
      "execution_count": null,
      "outputs": []
    }
  ]
}